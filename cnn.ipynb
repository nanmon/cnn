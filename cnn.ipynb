{
 "cells": [
  {
   "cell_type": "markdown",
   "metadata": {},
   "source": [
    "# Red Neuronal Convolucional\n",
    "## Parte 1: Construyendo la RNC\n",
    "### Importar librerias y paquetes de keras"
   ]
  },
  {
   "cell_type": "code",
   "execution_count": 1,
   "metadata": {},
   "outputs": [
    {
     "name": "stderr",
     "output_type": "stream",
     "text": [
      "Using TensorFlow backend.\n"
     ]
    }
   ],
   "source": [
    "from keras.models import Sequential\n",
    "from keras.layers import Convolution2D, MaxPooling2D, Flatten, Dense"
   ]
  },
  {
   "cell_type": "markdown",
   "metadata": {},
   "source": [
    "### Inicializando la RNC"
   ]
  },
  {
   "cell_type": "code",
   "execution_count": 2,
   "metadata": {},
   "outputs": [],
   "source": [
    "classifier = Sequential()"
   ]
  },
  {
   "cell_type": "markdown",
   "metadata": {},
   "source": [
    "### Paso 1 - Convolución"
   ]
  },
  {
   "cell_type": "code",
   "execution_count": 3,
   "metadata": {},
   "outputs": [],
   "source": [
    "classifier.add(Convolution2D(\n",
    "    32,                         # 32 filtros\n",
    "    (3, 3),                     # filtros de 3x3\n",
    "    input_shape = (64, 64, 3),  # imagenes rgb 64x64\n",
    "    activation = 'relu'         # no-lineal\n",
    "))"
   ]
  },
  {
   "cell_type": "markdown",
   "metadata": {},
   "source": [
    "### Paso 2 - Pooling"
   ]
  },
  {
   "cell_type": "code",
   "execution_count": 4,
   "metadata": {},
   "outputs": [],
   "source": [
    "classifier.add(MaxPooling2D(\n",
    "    pool_size = (2,2) # pooling de 2x2\n",
    "    # stride por default es 2 (pool_size)\n",
    "))"
   ]
  },
  {
   "cell_type": "markdown",
   "metadata": {},
   "source": [
    "### Paso 3 - Flatting"
   ]
  },
  {
   "cell_type": "code",
   "execution_count": 5,
   "metadata": {},
   "outputs": [],
   "source": [
    "classifier.add(Flatten()) # keras sabe que pedo"
   ]
  },
  {
   "cell_type": "markdown",
   "metadata": {},
   "source": [
    "### Paso 4 - Conexión completa"
   ]
  },
  {
   "cell_type": "code",
   "execution_count": 6,
   "metadata": {},
   "outputs": [],
   "source": [
    "# Capa oculta\n",
    "classifier.add(Dense(\n",
    "    units = 128,         # numero de neuronas\n",
    "    activation = \"relu\"\n",
    "))\n",
    "# Capa de salida\n",
    "classifier.add(Dense(\n",
    "    units = 1,             # perro o gato\n",
    "    activation = 'sigmoid'\n",
    "))"
   ]
  },
  {
   "cell_type": "markdown",
   "metadata": {},
   "source": [
    "### Compilando la RNC"
   ]
  },
  {
   "cell_type": "code",
   "execution_count": 7,
   "metadata": {},
   "outputs": [],
   "source": [
    "classifier.compile(\n",
    "    optimizer = 'adam',\n",
    "    loss = 'binary_crossentropy',\n",
    "    metrics = ['accuracy']\n",
    ")"
   ]
  },
  {
   "cell_type": "markdown",
   "metadata": {},
   "source": [
    "## Parte 2: Alimentando la RNC con imagenes"
   ]
  },
  {
   "cell_type": "code",
   "execution_count": 9,
   "metadata": {},
   "outputs": [
    {
     "name": "stdout",
     "output_type": "stream",
     "text": [
      "Found 8000 images belonging to 2 classes.\n",
      "Found 2000 images belonging to 2 classes.\n",
      "Epoch 1/25\n",
      "250/250 [==============================] - 114s 456ms/step - loss: 0.6682 - acc: 0.6122 - val_loss: 0.5948 - val_acc: 0.6855\n",
      "Epoch 2/25\n",
      "250/250 [==============================] - 104s 416ms/step - loss: 0.5871 - acc: 0.6871 - val_loss: 0.5649 - val_acc: 0.7160\n",
      "Epoch 3/25\n",
      "250/250 [==============================] - 104s 416ms/step - loss: 0.5445 - acc: 0.7254 - val_loss: 0.5891 - val_acc: 0.7100\n",
      "Epoch 4/25\n",
      "250/250 [==============================] - 108s 433ms/step - loss: 0.5313 - acc: 0.7339 - val_loss: 0.5308 - val_acc: 0.7365\n",
      "Epoch 5/25\n",
      "250/250 [==============================] - 117s 466ms/step - loss: 0.5181 - acc: 0.7429 - val_loss: 0.5109 - val_acc: 0.7510\n",
      "Epoch 6/25\n",
      "250/250 [==============================] - 100s 400ms/step - loss: 0.5028 - acc: 0.7495 - val_loss: 0.5097 - val_acc: 0.7680\n",
      "Epoch 7/25\n",
      "250/250 [==============================] - 98s 393ms/step - loss: 0.4905 - acc: 0.7564 - val_loss: 0.5098 - val_acc: 0.7555\n",
      "Epoch 8/25\n",
      "250/250 [==============================] - 96s 384ms/step - loss: 0.4837 - acc: 0.7625 - val_loss: 0.5020 - val_acc: 0.7555\n",
      "Epoch 9/25\n",
      "250/250 [==============================] - 96s 385ms/step - loss: 0.4732 - acc: 0.7721 - val_loss: 0.4922 - val_acc: 0.7790\n",
      "Epoch 10/25\n",
      "250/250 [==============================] - 96s 382ms/step - loss: 0.4612 - acc: 0.7788 - val_loss: 0.4872 - val_acc: 0.7785\n",
      "Epoch 11/25\n",
      "250/250 [==============================] - 99s 395ms/step - loss: 0.4528 - acc: 0.7845 - val_loss: 0.4731 - val_acc: 0.7850\n",
      "Epoch 12/25\n",
      "250/250 [==============================] - 96s 385ms/step - loss: 0.4460 - acc: 0.7865 - val_loss: 0.4840 - val_acc: 0.7865\n",
      "Epoch 13/25\n",
      "250/250 [==============================] - 96s 384ms/step - loss: 0.4359 - acc: 0.7944 - val_loss: 0.4916 - val_acc: 0.7835\n",
      "Epoch 14/25\n",
      "250/250 [==============================] - 98s 391ms/step - loss: 0.4188 - acc: 0.8039 - val_loss: 0.4720 - val_acc: 0.7875\n",
      "Epoch 15/25\n",
      "250/250 [==============================] - 97s 389ms/step - loss: 0.4118 - acc: 0.8127 - val_loss: 0.4668 - val_acc: 0.7890\n",
      "Epoch 16/25\n",
      "250/250 [==============================] - 98s 393ms/step - loss: 0.4093 - acc: 0.8115 - val_loss: 0.5074 - val_acc: 0.7680\n",
      "Epoch 17/25\n",
      "250/250 [==============================] - 98s 392ms/step - loss: 0.4074 - acc: 0.8117 - val_loss: 0.4706 - val_acc: 0.7935\n",
      "Epoch 18/25\n",
      "250/250 [==============================] - 99s 397ms/step - loss: 0.3961 - acc: 0.8139 - val_loss: 0.4707 - val_acc: 0.8005\n",
      "Epoch 19/25\n",
      "250/250 [==============================] - 100s 399ms/step - loss: 0.3851 - acc: 0.8215 - val_loss: 0.4910 - val_acc: 0.7810\n",
      "Epoch 20/25\n",
      "250/250 [==============================] - 97s 388ms/step - loss: 0.3676 - acc: 0.8310 - val_loss: 0.4755 - val_acc: 0.7855\n",
      "Epoch 21/25\n",
      "250/250 [==============================] - 97s 389ms/step - loss: 0.3651 - acc: 0.8353 - val_loss: 0.4987 - val_acc: 0.7950\n",
      "Epoch 22/25\n",
      "250/250 [==============================] - 96s 384ms/step - loss: 0.3625 - acc: 0.8367 - val_loss: 0.5162 - val_acc: 0.7725\n",
      "Epoch 23/25\n",
      "250/250 [==============================] - 97s 386ms/step - loss: 0.3571 - acc: 0.8392 - val_loss: 0.4995 - val_acc: 0.7840\n",
      "Epoch 24/25\n",
      "250/250 [==============================] - 96s 386ms/step - loss: 0.3470 - acc: 0.8462 - val_loss: 0.5528 - val_acc: 0.7605\n",
      "Epoch 25/25\n",
      "250/250 [==============================] - 96s 384ms/step - loss: 0.3324 - acc: 0.8459 - val_loss: 0.4976 - val_acc: 0.7880\n"
     ]
    },
    {
     "data": {
      "text/plain": [
       "<keras.callbacks.History at 0x11a4ba7b8>"
      ]
     },
     "execution_count": 9,
     "metadata": {},
     "output_type": "execute_result"
    }
   ],
   "source": [
    "from keras.preprocessing.image import ImageDataGenerator\n",
    "train_datagen = ImageDataGenerator(\n",
    "    rescale = 1./255,       # valores entre 0 y 1\n",
    "    shear_range = 0.2,\n",
    "    zoom_range = 0.2,\n",
    "    horizontal_flip = True\n",
    ")\n",
    "\n",
    "test_datagen = ImageDataGenerator(rescale = 1./255)\n",
    "\n",
    "training_set = train_datagen.flow_from_directory(\n",
    "    'dataset/training_set', # ubicacion de imagenes\n",
    "    target_size = (64, 64), # tamaño de imagenes\n",
    "    batch_size = 32,\n",
    "    class_mode = 'binary'\n",
    ")\n",
    "test_set = test_datagen.flow_from_directory(\n",
    "    'dataset/test_set',\n",
    "    target_size = (64, 64),\n",
    "    batch_size = 32,\n",
    "    class_mode = 'binary'\n",
    ")\n",
    "classifier.fit_generator(\n",
    "    training_set,\n",
    "    steps_per_epoch = 250,       # train_size / batch_size\n",
    "    epochs = 25,\n",
    "    validation_data = test_set,\n",
    "    validation_steps = 62        # test_size / batch_size\n",
    ")"
   ]
  },
  {
   "cell_type": "code",
   "execution_count": null,
   "metadata": {},
   "outputs": [],
   "source": []
  }
 ],
 "metadata": {
  "kernelspec": {
   "display_name": "Python 3",
   "language": "python",
   "name": "python3"
  },
  "language_info": {
   "codemirror_mode": {
    "name": "ipython",
    "version": 3
   },
   "file_extension": ".py",
   "mimetype": "text/x-python",
   "name": "python",
   "nbconvert_exporter": "python",
   "pygments_lexer": "ipython3",
   "version": "3.6.3"
  }
 },
 "nbformat": 4,
 "nbformat_minor": 2
}
