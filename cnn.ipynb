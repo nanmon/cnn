{
 "cells": [
  {
   "cell_type": "markdown",
   "metadata": {},
   "source": [
    "# Red Neuronal Convolucional\n",
    "## Parte 1: Construyendo la RNC\n",
    "### Importar librerias y paquetes de keras"
   ]
  },
  {
   "cell_type": "code",
   "execution_count": 1,
   "metadata": {},
   "outputs": [
    {
     "name": "stderr",
     "output_type": "stream",
     "text": [
      "Using TensorFlow backend.\n"
     ]
    }
   ],
   "source": [
    "%matplotlib inline\n",
    "from matplotlib import pyplot as plt\n",
    "from keras.models import Sequential\n",
    "from keras.layers import Convolution2D, MaxPooling2D, Flatten, Dense, Dropout"
   ]
  },
  {
   "cell_type": "markdown",
   "metadata": {},
   "source": [
    "### Inicializando la RNC"
   ]
  },
  {
   "cell_type": "code",
   "execution_count": 30,
   "metadata": {},
   "outputs": [],
   "source": [
    "classifier = Sequential()"
   ]
  },
  {
   "cell_type": "markdown",
   "metadata": {},
   "source": [
    "### Paso 1 - Convolución"
   ]
  },
  {
   "cell_type": "code",
   "execution_count": 31,
   "metadata": {},
   "outputs": [],
   "source": [
    "classifier.add(Convolution2D(\n",
    "    32,                         # 32 filtros\n",
    "    (3, 3),                     # filtros de 3x3\n",
    "    input_shape = (150, 150, 3),  # entrada imagenes rgb 128x128\n",
    "    activation = 'relu'         # no-lineal\n",
    "))"
   ]
  },
  {
   "cell_type": "markdown",
   "metadata": {},
   "source": [
    "### Paso 2 - Pooling"
   ]
  },
  {
   "cell_type": "code",
   "execution_count": 32,
   "metadata": {},
   "outputs": [],
   "source": [
    "classifier.add(MaxPooling2D(\n",
    "    pool_size = (2,2) # pooling de 2x2\n",
    "    # stride por default es 2 (pool_size)\n",
    "))"
   ]
  },
  {
   "cell_type": "markdown",
   "metadata": {},
   "source": [
    "### EXTRA: Segunda Convolución\n",
    "Tras ver los resultados con una sola convolución, se decidió añadir una segunda convolución para mejorar los resultados\n",
    "- Resultados con 1 convolución   : loss: 0.5028 - acc: 0.7495 - val_loss: 0.5097 - val_acc: 0.7680\n",
    "- Resultados con 2 convoluciónes : loss: 0.2288 - acc: 0.9071 - val_loss: 0.5439 - val_acc: 0.8105"
   ]
  },
  {
   "cell_type": "code",
   "execution_count": 33,
   "metadata": {},
   "outputs": [],
   "source": [
    "classifier.add(Convolution2D(\n",
    "    32,                         # 32 filtros\n",
    "    (3, 3),                     # filtros de 3x3\n",
    "    activation = 'relu'         # no-lineal\n",
    "))\n",
    "classifier.add(MaxPooling2D(\n",
    "    pool_size = (2,2) # pooling de 2x2\n",
    "    # stride por default es 2 (pool_size)\n",
    "))"
   ]
  },
  {
   "cell_type": "markdown",
   "metadata": {},
   "source": [
    "### Tercera convolucion"
   ]
  },
  {
   "cell_type": "code",
   "execution_count": 34,
   "metadata": {},
   "outputs": [],
   "source": [
    "classifier.add(Convolution2D(\n",
    "    64,                         # 64 filtros\n",
    "    (3, 3),                     # filtros de 3x3\n",
    "    activation = 'relu'         # no-lineal\n",
    "))\n",
    "classifier.add(MaxPooling2D(\n",
    "    pool_size = (2,2) # pooling de 2x2\n",
    "    # stride por default es 2 (pool_size)\n",
    "))\n",
    "# Cuarta convolucion\n",
    "classifier.add(Convolution2D(\n",
    "    64,                         # 64 filtros\n",
    "    (3, 3),                     # filtros de 3x3\n",
    "    activation = 'relu'         # no-lineal\n",
    "))\n",
    "classifier.add(MaxPooling2D(\n",
    "    pool_size = (2,2) # pooling de 2x2\n",
    "    # stride por default es 2 (pool_size)\n",
    "))"
   ]
  },
  {
   "cell_type": "markdown",
   "metadata": {},
   "source": [
    "### Paso 3 - Flatting"
   ]
  },
  {
   "cell_type": "code",
   "execution_count": 35,
   "metadata": {},
   "outputs": [],
   "source": [
    "classifier.add(Flatten()) # keras sabe que pedo"
   ]
  },
  {
   "cell_type": "markdown",
   "metadata": {},
   "source": [
    "### Paso 4 - Conexión completa"
   ]
  },
  {
   "cell_type": "code",
   "execution_count": 36,
   "metadata": {},
   "outputs": [],
   "source": [
    "# Capa oculta\n",
    "classifier.add(Dense(\n",
    "    units = 64,         # numero de neuronas\n",
    "    activation = \"relu\"\n",
    "))\n",
    "classifier.add(Dropout(0.4)) # Solo usa el 40% de las neuronas en el entrenamiento\n",
    "classifier.add(Dense(\n",
    "    units = 64,         # numero de neuronas\n",
    "    activation = \"relu\"\n",
    "))\n",
    "classifier.add(Dense(\n",
    "    units = 64,         # numero de neuronas\n",
    "    activation = \"relu\"\n",
    "))\n",
    "classifier.add(Dropout(0.2)) # Solo usa el 20% de las neuronas en el entrenamiento\n",
    "# Capa de salida\n",
    "classifier.add(Dense(\n",
    "    units = 2,             # perro o gato\n",
    "    activation = 'softmax'\n",
    "))"
   ]
  },
  {
   "cell_type": "markdown",
   "metadata": {},
   "source": [
    "### Compilando la RNC"
   ]
  },
  {
   "cell_type": "code",
   "execution_count": 37,
   "metadata": {},
   "outputs": [],
   "source": [
    "classifier.compile(\n",
    "    optimizer = 'adam',\n",
    "    loss = 'categorical_crossentropy',\n",
    "    metrics = ['accuracy']\n",
    ")"
   ]
  },
  {
   "cell_type": "markdown",
   "metadata": {},
   "source": [
    "## Parte 2: Alimentando la RNC con imagenes"
   ]
  },
  {
   "cell_type": "code",
   "execution_count": 38,
   "metadata": {
    "scrolled": false
   },
   "outputs": [
    {
     "name": "stdout",
     "output_type": "stream",
     "text": [
      "Found 335 images belonging to 2 classes.\n",
      "Found 111 images belonging to 2 classes.\n",
      "Epoch 1/100\n",
      "10/10 [==============================] - 3s - loss: 0.6377 - acc: 0.5977 - val_loss: 0.5474 - val_acc: 0.7089\n",
      "Epoch 2/100\n",
      "10/10 [==============================] - 1s - loss: 0.5056 - acc: 0.7500 - val_loss: 0.5577 - val_acc: 0.6889\n",
      "Epoch 3/100\n",
      "10/10 [==============================] - 1s - loss: 0.4038 - acc: 0.8238 - val_loss: 0.5795 - val_acc: 0.6962\n",
      "Epoch 4/100\n",
      "10/10 [==============================] - 1s - loss: 0.3389 - acc: 0.8647 - val_loss: 0.6255 - val_acc: 0.6774\n",
      "Epoch 5/100\n",
      "10/10 [==============================] - 1s - loss: 0.3409 - acc: 0.8356 - val_loss: 0.4069 - val_acc: 0.8065\n",
      "Epoch 6/100\n",
      "10/10 [==============================] - 1s - loss: 0.3680 - acc: 0.8553 - val_loss: 0.6237 - val_acc: 0.6889\n",
      "Epoch 7/100\n",
      "10/10 [==============================] - 1s - loss: 0.3117 - acc: 0.8426 - val_loss: 0.3274 - val_acc: 0.8000\n",
      "Epoch 8/100\n",
      "10/10 [==============================] - 1s - loss: 0.2924 - acc: 0.8844 - val_loss: 0.4158 - val_acc: 0.8387\n",
      "Epoch 9/100\n",
      "10/10 [==============================] - 1s - loss: 0.2310 - acc: 0.9089 - val_loss: 0.2745 - val_acc: 0.9032\n",
      "Epoch 10/100\n",
      "10/10 [==============================] - 1s - loss: 0.2986 - acc: 0.8428 - val_loss: 0.4629 - val_acc: 0.7742\n",
      "Epoch 11/100\n",
      "10/10 [==============================] - 1s - loss: 0.2052 - acc: 0.9121 - val_loss: 0.4269 - val_acc: 0.8444\n",
      "Epoch 12/100\n",
      "10/10 [==============================] - 2s - loss: 0.2446 - acc: 0.8835 - val_loss: 0.3955 - val_acc: 0.8889\n",
      "Epoch 13/100\n",
      "10/10 [==============================] - 2s - loss: 0.2072 - acc: 0.9244 - val_loss: 0.2623 - val_acc: 0.9032\n",
      "Epoch 14/100\n",
      "10/10 [==============================] - 1s - loss: 0.1786 - acc: 0.9403 - val_loss: 0.2177 - val_acc: 0.9333\n",
      "Epoch 15/100\n",
      "10/10 [==============================] - 1s - loss: 0.1869 - acc: 0.9055 - val_loss: 0.3679 - val_acc: 0.8889\n",
      "Epoch 16/100\n",
      "10/10 [==============================] - 1s - loss: 0.2786 - acc: 0.8806 - val_loss: 0.4567 - val_acc: 0.7903\n",
      "Epoch 17/100\n",
      "10/10 [==============================] - 1s - loss: 0.2232 - acc: 0.9062 - val_loss: 0.3669 - val_acc: 0.8871\n",
      "Epoch 18/100\n",
      "10/10 [==============================] - 1s - loss: 0.1661 - acc: 0.9215 - val_loss: 0.2989 - val_acc: 0.8667\n",
      "Epoch 19/100\n",
      "10/10 [==============================] - 1s - loss: 0.1469 - acc: 0.9434 - val_loss: 0.2903 - val_acc: 0.9114\n",
      "Epoch 20/100\n",
      "10/10 [==============================] - 1s - loss: 0.1814 - acc: 0.9151 - val_loss: 0.2673 - val_acc: 0.8889\n",
      "Epoch 21/100\n",
      "10/10 [==============================] - 1s - loss: 0.1495 - acc: 0.9370 - val_loss: 0.4298 - val_acc: 0.8871\n",
      "Epoch 22/100\n",
      "10/10 [==============================] - 2s - loss: 0.1709 - acc: 0.9183 - val_loss: 0.4013 - val_acc: 0.8667\n",
      "Epoch 23/100\n",
      "10/10 [==============================] - 1s - loss: 0.1147 - acc: 0.9435 - val_loss: 0.4474 - val_acc: 0.8387\n",
      "Epoch 24/100\n",
      "10/10 [==============================] - 1s - loss: 0.1759 - acc: 0.9309 - val_loss: 0.3754 - val_acc: 0.8710\n",
      "Epoch 25/100\n",
      "10/10 [==============================] - 1s - loss: 0.2037 - acc: 0.9219 - val_loss: 0.3834 - val_acc: 0.8871\n",
      "Epoch 26/100\n",
      "10/10 [==============================] - 1s - loss: 0.1750 - acc: 0.9309 - val_loss: 0.4707 - val_acc: 0.8889\n",
      "Epoch 27/100\n",
      "10/10 [==============================] - 1s - loss: 0.1978 - acc: 0.9150 - val_loss: 0.5305 - val_acc: 0.8222\n",
      "Epoch 28/100\n",
      "10/10 [==============================] - 1s - loss: 0.1661 - acc: 0.9272 - val_loss: 0.2651 - val_acc: 0.9355\n",
      "Epoch 29/100\n",
      "10/10 [==============================] - 2s - loss: 0.1225 - acc: 0.9496 - val_loss: 0.3941 - val_acc: 0.8871\n",
      "Epoch 30/100\n",
      "10/10 [==============================] - 1s - loss: 0.0882 - acc: 0.9686 - val_loss: 0.5873 - val_acc: 0.8387\n",
      "Epoch 31/100\n",
      "10/10 [==============================] - 1s - loss: 0.0803 - acc: 0.9717 - val_loss: 0.5295 - val_acc: 0.8548\n",
      "Epoch 32/100\n",
      "10/10 [==============================] - 1s - loss: 0.0697 - acc: 0.9844 - val_loss: 0.3182 - val_acc: 0.8444\n",
      "Epoch 33/100\n",
      "10/10 [==============================] - 1s - loss: 0.0477 - acc: 0.9843 - val_loss: 0.6700 - val_acc: 0.8889\n",
      "Epoch 34/100\n",
      "10/10 [==============================] - 1s - loss: 0.1074 - acc: 0.9464 - val_loss: 1.0123 - val_acc: 0.7333\n",
      "Epoch 35/100\n",
      "10/10 [==============================] - 2s - loss: 0.0699 - acc: 0.9780 - val_loss: 0.4517 - val_acc: 0.8871\n",
      "Epoch 36/100\n",
      "10/10 [==============================] - 2s - loss: 0.0698 - acc: 0.9812 - val_loss: 0.5405 - val_acc: 0.9111\n",
      "Epoch 37/100\n",
      "10/10 [==============================] - 2s - loss: 0.1021 - acc: 0.9623 - val_loss: 0.5486 - val_acc: 0.8871\n",
      "Epoch 38/100\n",
      "10/10 [==============================] - 2s - loss: 0.0714 - acc: 0.9654 - val_loss: 0.3828 - val_acc: 0.9355\n",
      "Epoch 39/100\n",
      "10/10 [==============================] - 2s - loss: 0.1022 - acc: 0.9528 - val_loss: 0.7271 - val_acc: 0.8226\n",
      "Epoch 40/100\n",
      "10/10 [==============================] - 2s - loss: 0.0589 - acc: 0.9843 - val_loss: 0.8556 - val_acc: 0.7333\n",
      "Epoch 41/100\n",
      "10/10 [==============================] - 2s - loss: 0.0440 - acc: 0.9843 - val_loss: 0.5866 - val_acc: 0.8871\n",
      "Epoch 42/100\n",
      "10/10 [==============================] - 2s - loss: 0.0350 - acc: 0.9779 - val_loss: 0.4670 - val_acc: 0.8548\n",
      "Epoch 43/100\n",
      "10/10 [==============================] - 2s - loss: 0.0643 - acc: 0.9750 - val_loss: 1.2878 - val_acc: 0.6889\n",
      "Epoch 44/100\n",
      "10/10 [==============================] - 2s - loss: 0.0589 - acc: 0.9749 - val_loss: 0.7923 - val_acc: 0.8667\n",
      "Epoch 45/100\n",
      "10/10 [==============================] - 2s - loss: 0.0596 - acc: 0.9843 - val_loss: 0.4928 - val_acc: 0.9333\n",
      "Epoch 46/100\n",
      "10/10 [==============================] - 2s - loss: 0.0253 - acc: 0.9937 - val_loss: 0.4543 - val_acc: 0.8871\n",
      "Epoch 47/100\n",
      "10/10 [==============================] - 2s - loss: 0.0519 - acc: 0.9843 - val_loss: 0.6016 - val_acc: 0.9194\n",
      "Epoch 48/100\n",
      "10/10 [==============================] - 2s - loss: 0.0348 - acc: 0.9969 - val_loss: 0.8308 - val_acc: 0.8387\n",
      "Epoch 49/100\n",
      "10/10 [==============================] - 2s - loss: 0.0473 - acc: 0.9812 - val_loss: 1.0170 - val_acc: 0.8387\n",
      "Epoch 50/100\n",
      "10/10 [==============================] - 1s - loss: 0.0226 - acc: 0.9937 - val_loss: 0.6677 - val_acc: 0.8444\n",
      "Epoch 51/100\n",
      "10/10 [==============================] - 1s - loss: 0.0187 - acc: 0.9937 - val_loss: 0.5980 - val_acc: 0.8871\n",
      "Epoch 52/100\n",
      "10/10 [==============================] - 1s - loss: 0.0111 - acc: 0.9969 - val_loss: 0.3604 - val_acc: 0.8222\n",
      "Epoch 53/100\n",
      "10/10 [==============================] - 1s - loss: 0.0063 - acc: 1.0000 - val_loss: 0.8034 - val_acc: 0.8710\n",
      "Epoch 54/100\n",
      "10/10 [==============================] - 1s - loss: 0.0135 - acc: 0.9969 - val_loss: 0.3855 - val_acc: 0.9111\n",
      "Epoch 55/100\n",
      "10/10 [==============================] - 1s - loss: 0.0069 - acc: 1.0000 - val_loss: 0.3072 - val_acc: 0.9355\n",
      "Epoch 56/100\n",
      "10/10 [==============================] - 1s - loss: 0.0030 - acc: 1.0000 - val_loss: 0.1921 - val_acc: 0.9194\n",
      "Epoch 57/100\n",
      "10/10 [==============================] - 1s - loss: 0.0065 - acc: 0.9969 - val_loss: 0.9950 - val_acc: 0.8667\n",
      "Epoch 58/100\n",
      "10/10 [==============================] - 1s - loss: 0.0095 - acc: 0.9969 - val_loss: 0.8173 - val_acc: 0.8871\n",
      "Epoch 59/100\n",
      "10/10 [==============================] - 1s - loss: 0.0242 - acc: 0.9937 - val_loss: 0.2278 - val_acc: 0.9111\n",
      "Epoch 60/100\n",
      "10/10 [==============================] - 1s - loss: 0.0092 - acc: 0.9969 - val_loss: 0.3362 - val_acc: 0.9032\n",
      "Epoch 61/100\n",
      "10/10 [==============================] - 1s - loss: 0.0172 - acc: 0.9937 - val_loss: 0.2945 - val_acc: 0.9111\n",
      "Epoch 62/100\n",
      "10/10 [==============================] - 2s - loss: 0.0077 - acc: 0.9969 - val_loss: 0.4110 - val_acc: 0.9333\n",
      "Epoch 63/100\n",
      "10/10 [==============================] - 2s - loss: 0.0163 - acc: 0.9969 - val_loss: 0.5700 - val_acc: 0.9194\n",
      "Epoch 64/100\n",
      "10/10 [==============================] - 1s - loss: 0.0563 - acc: 0.9843 - val_loss: 0.4476 - val_acc: 0.8889\n",
      "Epoch 65/100\n",
      "10/10 [==============================] - 1s - loss: 0.0339 - acc: 0.9969 - val_loss: 0.6204 - val_acc: 0.9194\n",
      "Epoch 66/100\n",
      "10/10 [==============================] - 1s - loss: 0.0413 - acc: 0.9811 - val_loss: 0.8333 - val_acc: 0.8667\n",
      "Epoch 67/100\n"
     ]
    },
    {
     "name": "stdout",
     "output_type": "stream",
     "text": [
      "10/10 [==============================] - 1s - loss: 0.0229 - acc: 0.9906 - val_loss: 0.7890 - val_acc: 0.7778\n",
      "Epoch 68/100\n",
      "10/10 [==============================] - 1s - loss: 0.1126 - acc: 0.9716 - val_loss: 0.4263 - val_acc: 0.8889\n",
      "Epoch 69/100\n",
      "10/10 [==============================] - 1s - loss: 0.0489 - acc: 0.9842 - val_loss: 0.9174 - val_acc: 0.8222\n",
      "Epoch 70/100\n",
      "10/10 [==============================] - 1s - loss: 0.0732 - acc: 0.9780 - val_loss: 1.2308 - val_acc: 0.8222\n",
      "Epoch 71/100\n",
      "10/10 [==============================] - 1s - loss: 0.0420 - acc: 0.9906 - val_loss: 0.3173 - val_acc: 0.9111\n",
      "Epoch 72/100\n",
      "10/10 [==============================] - 1s - loss: 0.0226 - acc: 0.9969 - val_loss: 0.5857 - val_acc: 0.8444\n",
      "Epoch 73/100\n",
      "10/10 [==============================] - 1s - loss: 0.0300 - acc: 0.9874 - val_loss: 0.4041 - val_acc: 0.9333\n",
      "Epoch 74/100\n",
      "10/10 [==============================] - 2s - loss: 0.0302 - acc: 0.9842 - val_loss: 0.2388 - val_acc: 0.9355\n",
      "Epoch 75/100\n",
      "10/10 [==============================] - 2s - loss: 0.0299 - acc: 0.9905 - val_loss: 0.1876 - val_acc: 0.9032\n",
      "Epoch 76/100\n",
      "10/10 [==============================] - 2s - loss: 0.0208 - acc: 0.9969 - val_loss: 0.8072 - val_acc: 0.8444\n",
      "Epoch 77/100\n",
      "10/10 [==============================] - 1s - loss: 0.0246 - acc: 0.9937 - val_loss: 0.6604 - val_acc: 0.9032\n",
      "Epoch 78/100\n",
      "10/10 [==============================] - 1s - loss: 0.0118 - acc: 0.9969 - val_loss: 0.7245 - val_acc: 0.8871\n",
      "Epoch 79/100\n",
      "10/10 [==============================] - 1s - loss: 0.0070 - acc: 1.0000 - val_loss: 0.5463 - val_acc: 0.8871\n",
      "Epoch 80/100\n",
      "10/10 [==============================] - 1s - loss: 0.0023 - acc: 1.0000 - val_loss: 0.1543 - val_acc: 0.9556\n",
      "Epoch 81/100\n",
      "10/10 [==============================] - 1s - loss: 0.0079 - acc: 1.0000 - val_loss: 0.6716 - val_acc: 0.8667\n",
      "Epoch 82/100\n",
      "10/10 [==============================] - 1s - loss: 0.0040 - acc: 0.9968 - val_loss: 0.6747 - val_acc: 0.8710\n",
      "Epoch 83/100\n",
      "10/10 [==============================] - 2s - loss: 0.0045 - acc: 1.0000 - val_loss: 0.5238 - val_acc: 0.8667\n",
      "Epoch 84/100\n",
      "10/10 [==============================] - 2s - loss: 0.0025 - acc: 1.0000 - val_loss: 0.7374 - val_acc: 0.8710\n",
      "Epoch 85/100\n",
      "10/10 [==============================] - 1s - loss: 0.0022 - acc: 1.0000 - val_loss: 0.7375 - val_acc: 0.8710\n",
      "Epoch 86/100\n",
      "10/10 [==============================] - 1s - loss: 0.0019 - acc: 1.0000 - val_loss: 0.7886 - val_acc: 0.8710\n",
      "Epoch 87/100\n",
      "10/10 [==============================] - 1s - loss: 0.0016 - acc: 1.0000 - val_loss: 1.6048 - val_acc: 0.8000\n",
      "Epoch 88/100\n",
      "10/10 [==============================] - 1s - loss: 0.0026 - acc: 1.0000 - val_loss: 0.6296 - val_acc: 0.8871\n",
      "Epoch 89/100\n",
      "10/10 [==============================] - 1s - loss: 6.8056e-04 - acc: 1.0000 - val_loss: 0.7222 - val_acc: 0.8667\n",
      "Epoch 90/100\n",
      "10/10 [==============================] - 1s - loss: 6.5041e-04 - acc: 1.0000 - val_loss: 1.1599 - val_acc: 0.7333\n",
      "Epoch 91/100\n",
      "10/10 [==============================] - 1s - loss: 3.5653e-04 - acc: 1.0000 - val_loss: 0.2758 - val_acc: 0.9111\n",
      "Epoch 92/100\n",
      "10/10 [==============================] - 1s - loss: 3.2967e-04 - acc: 1.0000 - val_loss: 0.9452 - val_acc: 0.8548\n",
      "Epoch 93/100\n",
      "10/10 [==============================] - 1s - loss: 0.0010 - acc: 1.0000 - val_loss: 1.0090 - val_acc: 0.8889\n",
      "Epoch 94/100\n",
      "10/10 [==============================] - 1s - loss: 5.2265e-04 - acc: 1.0000 - val_loss: 1.1753 - val_acc: 0.8000\n",
      "Epoch 95/100\n",
      "10/10 [==============================] - 1s - loss: 3.0112e-04 - acc: 1.0000 - val_loss: 0.8844 - val_acc: 0.8667\n",
      "Epoch 96/100\n",
      "10/10 [==============================] - 1s - loss: 0.0219 - acc: 0.9874 - val_loss: 0.5007 - val_acc: 0.9032\n",
      "Epoch 97/100\n",
      "10/10 [==============================] - 1s - loss: 0.0281 - acc: 0.9874 - val_loss: 0.6677 - val_acc: 0.8667\n",
      "Epoch 98/100\n",
      "10/10 [==============================] - 1s - loss: 0.0154 - acc: 1.0000 - val_loss: 0.3861 - val_acc: 0.8667\n",
      "Epoch 99/100\n",
      "10/10 [==============================] - 1s - loss: 0.0198 - acc: 0.9969 - val_loss: 0.6652 - val_acc: 0.8710\n",
      "Epoch 100/100\n",
      "10/10 [==============================] - 1s - loss: 0.0075 - acc: 0.9969 - val_loss: 1.2452 - val_acc: 0.8065\n"
     ]
    }
   ],
   "source": [
    "from keras.preprocessing.image import ImageDataGenerator\n",
    "from keras.callbacks import ModelCheckpoint\n",
    "train_datagen = ImageDataGenerator(\n",
    "    rescale = 1./255,       # valores entre 0 y 1\n",
    "    shear_range = 0.2,\n",
    "    zoom_range = 0.2,\n",
    "    horizontal_flip = True\n",
    ")\n",
    "\n",
    "checkpoint = ModelCheckpoint(\n",
    "    filepath = 'ckpt/weights.{epoch:02d}-{val_loss:.2f}.hdf5'\n",
    ")\n",
    "\n",
    "test_datagen = ImageDataGenerator(rescale = 1./255)\n",
    "\n",
    "training_set = train_datagen.flow_from_directory(\n",
    "    'dataset/train', # ubicacion de imagenes\n",
    "    target_size = (150, 150), # tamaño de imagenes\n",
    "    batch_size = 32,\n",
    "    class_mode = 'categorical'\n",
    ")\n",
    "test_set = test_datagen.flow_from_directory(\n",
    "    'dataset/test',\n",
    "    target_size = (150, 150),\n",
    "    batch_size = 32,\n",
    "    class_mode = 'categorical'\n",
    ")\n",
    "history = classifier.fit_generator(\n",
    "    training_set,\n",
    "    steps_per_epoch = 10,       # train_size / batch_size\n",
    "    epochs = 100,\n",
    "    validation_data = test_set,\n",
    "    validation_steps = 3,       # test_size / batch_size\n",
    "    workers = 10,                  # número de procesos\n",
    "    callbacks = [checkpoint]\n",
    ")"
   ]
  },
  {
   "cell_type": "code",
   "execution_count": 39,
   "metadata": {},
   "outputs": [
    {
     "data": {
      "text/plain": [
       "[<matplotlib.lines.Line2D at 0x1ee85fa6668>]"
      ]
     },
     "execution_count": 39,
     "metadata": {},
     "output_type": "execute_result"
    },
    {
     "data": {
      "image/png": "[encoded data removed]",
      "text/plain": [
       "<matplotlib.figure.Figure at 0x1ee80ac1d68>"
      ]
     },
     "metadata": {},
     "output_type": "display_data"
    }
   ],
   "source": [
    "plt.plot(history.history['val_loss'])\n",
    "plt.plot(history.history['loss'])"
   ]
  },
  {
   "cell_type": "markdown",
   "metadata": {},
   "source": [
    "### Predicción"
   ]
  },
  {
   "cell_type": "code",
   "execution_count": 71,
   "metadata": {},
   "outputs": [
    {
     "name": "stdout",
     "output_type": "stream",
     "text": [
      "[[ 1.  0.]]\n"
     ]
    }
   ],
   "source": [
    "import numpy as np\n",
    "from keras.preprocessing import image\n",
    "\n",
    "# load image with size 64x64\n",
    "test_image = image.load_img('dataset/single_prediction/majin.jpg', target_size = (150, 150))\n",
    "# add color chanel dimension\n",
    "test_image = image.img_to_array(test_image)\n",
    "# add another dimension for the batch\n",
    "test_image = np.expand_dims(test_image, 0)\n",
    "result = classifier.predict(test_image)\n",
    "classifier\n",
    "print(result)"
   ]
  },
  {
   "cell_type": "code",
   "execution_count": null,
   "metadata": {},
   "outputs": [],
   "source": []
  }
 ],
 "metadata": {
  "kernelspec": {
   "display_name": "Python 3",
   "language": "python",
   "name": "python3"
  },
  "language_info": {
   "codemirror_mode": {
    "name": "ipython",
    "version": 3
   },
   "file_extension": ".py",
   "mimetype": "text/x-python",
   "name": "python",
   "nbconvert_exporter": "python",
   "pygments_lexer": "ipython3",
   "version": "3.5.4"
  }
 },
 "nbformat": 4,
 "nbformat_minor": 2
}
