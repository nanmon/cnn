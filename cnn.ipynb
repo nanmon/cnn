{
 "cells": [
  {
   "cell_type": "markdown",
   "metadata": {},
   "source": [
    "# Red Neuronal Convolucional\n",
    "## Parte 1: Construyendo la RNC\n",
    "### Importar librerias y paquetes de keras"
   ]
  },
  {
   "cell_type": "code",
   "execution_count": 1,
   "metadata": {},
   "outputs": [
    {
     "name": "stderr",
     "output_type": "stream",
     "text": [
      "Using TensorFlow backend.\n"
     ]
    }
   ],
   "source": [
    "from keras.models import Sequential\n",
    "from keras.layers import Convolution2D, MaxPooling2D, Flatten, Dense"
   ]
  },
  {
   "cell_type": "markdown",
   "metadata": {},
   "source": [
    "### Inicializando la RNC"
   ]
  },
  {
   "cell_type": "code",
   "execution_count": 2,
   "metadata": {},
   "outputs": [],
   "source": [
    "classifier = Sequential()"
   ]
  },
  {
   "cell_type": "markdown",
   "metadata": {},
   "source": [
    "### Paso 1 - Convolución"
   ]
  },
  {
   "cell_type": "code",
   "execution_count": 3,
   "metadata": {},
   "outputs": [],
   "source": [
    "classifier.add(Convolution2D(\n",
    "    32,                         # 32 filtros\n",
    "    (3, 3),                     # filtros de 3x3\n",
    "    input_shape = (64, 64, 3),  # entrada imagenes rgb 64x64\n",
    "    activation = 'relu'         # no-lineal\n",
    "))"
   ]
  },
  {
   "cell_type": "markdown",
   "metadata": {},
   "source": [
    "### Paso 2 - Pooling"
   ]
  },
  {
   "cell_type": "code",
   "execution_count": 4,
   "metadata": {},
   "outputs": [],
   "source": [
    "classifier.add(MaxPooling2D(\n",
    "    pool_size = (2,2) # pooling de 2x2\n",
    "    # stride por default es 2 (pool_size)\n",
    "))"
   ]
  },
  {
   "cell_type": "markdown",
   "metadata": {},
   "source": [
    "### EXTRA: Segunda Convolución\n",
    "Tras ver los resultados con una sola convolución, se decidió añadir una segunda convolución para mejorar los resultados\n",
    "- Resultados con 1 convolución   : loss: 0.5028 - acc: 0.7495 - val_loss: 0.5097 - val_acc: 0.7680\n",
    "- Resultados con 2 convoluciónes : loss: 0.2288 - acc: 0.9071 - val_loss: 0.5439 - val_acc: 0.8105"
   ]
  },
  {
   "cell_type": "code",
   "execution_count": 5,
   "metadata": {},
   "outputs": [],
   "source": [
    "classifier.add(Convolution2D(\n",
    "    32,                         # 32 filtros\n",
    "    (3, 3),                     # filtros de 3x3\n",
    "    activation = 'relu'         # no-lineal\n",
    "))\n",
    "classifier.add(MaxPooling2D(\n",
    "    pool_size = (2,2) # pooling de 2x2\n",
    "    # stride por default es 2 (pool_size)\n",
    "))"
   ]
  },
  {
   "cell_type": "markdown",
   "metadata": {},
   "source": [
    "### Paso 3 - Flatting"
   ]
  },
  {
   "cell_type": "code",
   "execution_count": 6,
   "metadata": {},
   "outputs": [],
   "source": [
    "classifier.add(Flatten()) # keras sabe que pedo"
   ]
  },
  {
   "cell_type": "markdown",
   "metadata": {},
   "source": [
    "### Paso 4 - Conexión completa"
   ]
  },
  {
   "cell_type": "code",
   "execution_count": 7,
   "metadata": {},
   "outputs": [],
   "source": [
    "# Capa oculta\n",
    "classifier.add(Dense(\n",
    "    units = 128,         # numero de neuronas\n",
    "    activation = \"relu\"\n",
    "))\n",
    "# Capa de salida\n",
    "classifier.add(Dense(\n",
    "    units = 1,             # perro o gato\n",
    "    activation = 'sigmoid'\n",
    "))"
   ]
  },
  {
   "cell_type": "markdown",
   "metadata": {},
   "source": [
    "### Compilando la RNC"
   ]
  },
  {
   "cell_type": "code",
   "execution_count": 8,
   "metadata": {},
   "outputs": [],
   "source": [
    "classifier.compile(\n",
    "    optimizer = 'adam',\n",
    "    loss = 'binary_crossentropy',\n",
    "    metrics = ['accuracy']\n",
    ")"
   ]
  },
  {
   "cell_type": "markdown",
   "metadata": {},
   "source": [
    "## Parte 2: Alimentando la RNC con imagenes"
   ]
  },
  {
   "cell_type": "code",
   "execution_count": 10,
   "metadata": {
    "scrolled": true
   },
   "outputs": [
    {
     "name": "stdout",
     "output_type": "stream",
     "text": [
      "Found 8000 images belonging to 2 classes.\n",
      "Found 2000 images belonging to 2 classes.\n",
      "Epoch 1/25\n",
      "250/250 [==============================] - 71s 282ms/step - loss: 0.6406 - acc: 0.6430 - val_loss: 0.6237 - val_acc: 0.6585\n",
      "Epoch 2/25\n",
      "250/250 [==============================] - 70s 282ms/step - loss: 0.5957 - acc: 0.6824 - val_loss: 0.6031 - val_acc: 0.6725\n",
      "Epoch 3/25\n",
      "250/250 [==============================] - 72s 287ms/step - loss: 0.5544 - acc: 0.7140 - val_loss: 0.5410 - val_acc: 0.7520\n",
      "Epoch 4/25\n",
      "250/250 [==============================] - 72s 286ms/step - loss: 0.5212 - acc: 0.7356 - val_loss: 0.5148 - val_acc: 0.7615\n",
      "Epoch 5/25\n",
      "250/250 [==============================] - 70s 278ms/step - loss: 0.4952 - acc: 0.7549 - val_loss: 0.4971 - val_acc: 0.7740\n",
      "Epoch 6/25\n",
      "250/250 [==============================] - 65s 260ms/step - loss: 0.4713 - acc: 0.7738 - val_loss: 0.4948 - val_acc: 0.7710\n",
      "Epoch 7/25\n",
      "250/250 [==============================] - 69s 276ms/step - loss: 0.4657 - acc: 0.7732 - val_loss: 0.4923 - val_acc: 0.7705\n",
      "Epoch 8/25\n",
      "250/250 [==============================] - 68s 273ms/step - loss: 0.4400 - acc: 0.7870 - val_loss: 0.4411 - val_acc: 0.7965\n",
      "Epoch 9/25\n",
      "250/250 [==============================] - 68s 273ms/step - loss: 0.4343 - acc: 0.7975 - val_loss: 0.4585 - val_acc: 0.7940\n",
      "Epoch 10/25\n",
      "250/250 [==============================] - 70s 279ms/step - loss: 0.4095 - acc: 0.8086 - val_loss: 0.4374 - val_acc: 0.7995\n",
      "Epoch 11/25\n",
      "250/250 [==============================] - 69s 277ms/step - loss: 0.4087 - acc: 0.8061 - val_loss: 0.4387 - val_acc: 0.8040\n",
      "Epoch 12/25\n",
      "250/250 [==============================] - 68s 272ms/step - loss: 0.3880 - acc: 0.8249 - val_loss: 0.4472 - val_acc: 0.8110\n",
      "Epoch 13/25\n",
      "250/250 [==============================] - 69s 276ms/step - loss: 0.3694 - acc: 0.8340 - val_loss: 0.4559 - val_acc: 0.8080\n",
      "Epoch 14/25\n",
      "250/250 [==============================] - 70s 278ms/step - loss: 0.3550 - acc: 0.8381 - val_loss: 0.4406 - val_acc: 0.8130\n",
      "Epoch 15/25\n",
      "250/250 [==============================] - 70s 278ms/step - loss: 0.3610 - acc: 0.8401 - val_loss: 0.4726 - val_acc: 0.7985\n",
      "Epoch 16/25\n",
      "250/250 [==============================] - 69s 276ms/step - loss: 0.3343 - acc: 0.8493 - val_loss: 0.4415 - val_acc: 0.8060\n",
      "Epoch 17/25\n",
      "250/250 [==============================] - 69s 276ms/step - loss: 0.3306 - acc: 0.8511 - val_loss: 0.4406 - val_acc: 0.8050\n",
      "Epoch 18/25\n",
      "250/250 [==============================] - 69s 278ms/step - loss: 0.3223 - acc: 0.8579 - val_loss: 0.4653 - val_acc: 0.8195\n",
      "Epoch 19/25\n",
      "250/250 [==============================] - 68s 274ms/step - loss: 0.2968 - acc: 0.8735 - val_loss: 0.4766 - val_acc: 0.8115\n",
      "Epoch 20/25\n",
      "250/250 [==============================] - 70s 279ms/step - loss: 0.2973 - acc: 0.8695 - val_loss: 0.4586 - val_acc: 0.8075\n",
      "Epoch 21/25\n",
      "250/250 [==============================] - 70s 281ms/step - loss: 0.2860 - acc: 0.8766 - val_loss: 0.4781 - val_acc: 0.8030\n",
      "Epoch 22/25\n",
      "250/250 [==============================] - 69s 277ms/step - loss: 0.2695 - acc: 0.8844 - val_loss: 0.4565 - val_acc: 0.8100\n",
      "Epoch 23/25\n",
      "250/250 [==============================] - 70s 279ms/step - loss: 0.2562 - acc: 0.8913 - val_loss: 0.4577 - val_acc: 0.8230\n",
      "Epoch 24/25\n",
      "250/250 [==============================] - 69s 277ms/step - loss: 0.2473 - acc: 0.8995 - val_loss: 0.4564 - val_acc: 0.8100\n",
      "Epoch 25/25\n",
      "250/250 [==============================] - 70s 279ms/step - loss: 0.2288 - acc: 0.9071 - val_loss: 0.5439 - val_acc: 0.8105\n"
     ]
    },
    {
     "data": {
      "text/plain": [
       "<keras.callbacks.History at 0x111f42518>"
      ]
     },
     "execution_count": 10,
     "metadata": {},
     "output_type": "execute_result"
    }
   ],
   "source": [
    "from keras.preprocessing.image import ImageDataGenerator\n",
    "train_datagen = ImageDataGenerator(\n",
    "    rescale = 1./255,       # valores entre 0 y 1\n",
    "    shear_range = 0.2,\n",
    "    zoom_range = 0.2,\n",
    "    horizontal_flip = True\n",
    ")\n",
    "\n",
    "test_datagen = ImageDataGenerator(rescale = 1./255)\n",
    "\n",
    "training_set = train_datagen.flow_from_directory(\n",
    "    'dataset/training_set', # ubicacion de imagenes\n",
    "    target_size = (64, 64), # tamaño de imagenes\n",
    "    batch_size = 32,\n",
    "    class_mode = 'binary'\n",
    ")\n",
    "test_set = test_datagen.flow_from_directory(\n",
    "    'dataset/test_set',\n",
    "    target_size = (64, 64),\n",
    "    batch_size = 32,\n",
    "    class_mode = 'binary'\n",
    ")\n",
    "classifier.fit_generator(\n",
    "    training_set,\n",
    "    steps_per_epoch = 250,       # train_size / batch_size\n",
    "    epochs = 25,\n",
    "    validation_data = test_set,\n",
    "    validation_steps = 62,       # test_size / batch_size\n",
    "    workers = 4                  # número de procesos\n",
    ")"
   ]
  },
  {
   "cell_type": "markdown",
   "metadata": {},
   "source": [
    "### Predicción"
   ]
  },
  {
   "cell_type": "code",
   "execution_count": 27,
   "metadata": {},
   "outputs": [
    {
     "name": "stdout",
     "output_type": "stream",
     "text": [
      "1.0\n"
     ]
    }
   ],
   "source": [
    "import numpy as np\n",
    "from keras.preprocessing import image\n",
    "\n",
    "# load image with size 64x64\n",
    "test_image = image.load_img('dataset/single_prediction/Ragdoll_202.jpg', target_size = (64, 64))\n",
    "# add color chanel dimension\n",
    "test_image = image.img_to_array(test_image)\n",
    "# add another dimension for the batch\n",
    "test_image = np.expand_dims(test_image, 0)\n",
    "result = classifier.predict(test_image)\n",
    "print(result[0][0])"
   ]
  },
  {
   "cell_type": "code",
   "execution_count": null,
   "metadata": {},
   "outputs": [],
   "source": []
  }
 ],
 "metadata": {
  "kernelspec": {
   "display_name": "Python 3",
   "language": "python",
   "name": "python3"
  },
  "language_info": {
   "codemirror_mode": {
    "name": "ipython",
    "version": 3
   },
   "file_extension": ".py",
   "mimetype": "text/x-python",
   "name": "python",
   "nbconvert_exporter": "python",
   "pygments_lexer": "ipython3",
   "version": "3.6.3"
  }
 },
 "nbformat": 4,
 "nbformat_minor": 2
}
